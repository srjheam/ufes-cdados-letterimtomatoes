{
 "cells": [
  {
   "cell_type": "markdown",
   "metadata": {},
   "source": [
    "# Introduction"
   ]
  },
  {
   "cell_type": "markdown",
   "metadata": {},
   "source": [
    "Authors:\n",
    "\n",
    "- [Arthur Estefanato Lopes](a.e@.edu.ufes.br)\n",
    "- [Jheam Storch Ross](jheam.ross@edu.ufes.br)\n",
    "\n",
    "work about bla-bla-bla"
   ]
  },
  {
   "cell_type": "markdown",
   "metadata": {},
   "source": [
    "Every heading1 (#) markdown session in this notebook is independent from the others, so you can run them in any order you want as long as the previous archifacts are available."
   ]
  },
  {
   "cell_type": "markdown",
   "metadata": {},
   "source": [
    "# Setup"
   ]
  },
  {
   "cell_type": "markdown",
   "metadata": {},
   "source": [
    "## Download the database"
   ]
  },
  {
   "cell_type": "markdown",
   "metadata": {},
   "source": [
    "Get all the three datasets from:\n",
    "\n",
    "- https://ieee-dataport.org/open-access/imdb-users-ratings-dataset\n",
    "    - notas dos usuário para filmes (até 2020)\n",
    "    - idealmente, deveríamos ter uma fonte de no mínimo 2023\n",
    "- https://www.kaggle.com/datasets/freeth/letterboxd-film-ratings\n",
    "    - notas dos usuários para filmes (até 2023)\n",
    "- https://www.kaggle.com/datasets/andrezaza/clapper-massive-rotten-tomatoes-movies-and-reviews\n",
    "    - notas dos usuários para filmes (até 2023)"
   ]
  },
  {
   "cell_type": "markdown",
   "metadata": {},
   "source": [
    "Unzip them to the `data` folder, `raw` subfolder.\n",
    "\n",
    "Each with the following subsubfolder name:\n",
    "\n",
    "- imdb_user_ratings_ieee\n",
    "- letterboxd_user_ratings_kaggle\n",
    "- rt_user_ratings_kaggle"
   ]
  },
  {
   "cell_type": "markdown",
   "metadata": {},
   "source": [
    "# Preprocessing"
   ]
  },
  {
   "cell_type": "markdown",
   "metadata": {},
   "source": [
    "## Install the dependencies"
   ]
  },
  {
   "cell_type": "code",
   "execution_count": null,
   "metadata": {},
   "outputs": [
    {
     "name": "stdout",
     "output_type": "stream",
     "text": [
      "Requirement already satisfied: numpy in ./.venv/lib/python3.11/site-packages (2.2.4)\n",
      "Requirement already satisfied: pandas in ./.venv/lib/python3.11/site-packages (2.2.3)\n",
      "Requirement already satisfied: matplotlib in ./.venv/lib/python3.11/site-packages (3.10.1)\n",
      "Requirement already satisfied: seaborn in ./.venv/lib/python3.11/site-packages (0.13.2)\n",
      "Requirement already satisfied: python-dateutil>=2.8.2 in ./.venv/lib/python3.11/site-packages (from pandas) (2.9.0.post0)\n",
      "Requirement already satisfied: pytz>=2020.1 in ./.venv/lib/python3.11/site-packages (from pandas) (2025.1)\n",
      "Requirement already satisfied: tzdata>=2022.7 in ./.venv/lib/python3.11/site-packages (from pandas) (2025.1)\n",
      "Requirement already satisfied: contourpy>=1.0.1 in ./.venv/lib/python3.11/site-packages (from matplotlib) (1.3.1)\n",
      "Requirement already satisfied: cycler>=0.10 in ./.venv/lib/python3.11/site-packages (from matplotlib) (0.12.1)\n",
      "Requirement already satisfied: fonttools>=4.22.0 in ./.venv/lib/python3.11/site-packages (from matplotlib) (4.56.0)\n",
      "Requirement already satisfied: kiwisolver>=1.3.1 in ./.venv/lib/python3.11/site-packages (from matplotlib) (1.4.8)\n",
      "Requirement already satisfied: packaging>=20.0 in ./.venv/lib/python3.11/site-packages (from matplotlib) (24.2)\n",
      "Requirement already satisfied: pillow>=8 in ./.venv/lib/python3.11/site-packages (from matplotlib) (11.1.0)\n",
      "Requirement already satisfied: pyparsing>=2.3.1 in ./.venv/lib/python3.11/site-packages (from matplotlib) (3.2.1)\n",
      "Requirement already satisfied: six>=1.5 in ./.venv/lib/python3.11/site-packages (from python-dateutil>=2.8.2->pandas) (1.17.0)\n",
      "Note: you may need to restart the kernel to use updated packages.\n"
     ]
    }
   ],
   "source": [
    "%pip install \\\n",
    "    numpy \\\n",
    "    pandas"
   ]
  },
  {
   "cell_type": "markdown",
   "metadata": {},
   "source": [
    "## Import the dataset"
   ]
  },
  {
   "cell_type": "code",
   "execution_count": 7,
   "metadata": {},
   "outputs": [],
   "source": [
    "data_dir = 'data'\n",
    "data_raw_dir = data_dir + '/raw'\n",
    "\n",
    "imdb_dir = \"imdb_user_ratings_ieee\"\n",
    "letterboxd_dir = \"letterboxd_user_ratings_kaggle\"\n",
    "rt_dir = \"rt_user_ratings_kaggle\""
   ]
  },
  {
   "cell_type": "code",
   "execution_count": 8,
   "metadata": {},
   "outputs": [],
   "source": [
    "import numpy as np\n",
    "import pandas as pd"
   ]
  },
  {
   "cell_type": "markdown",
   "metadata": {},
   "source": [
    "### IMDb"
   ]
  },
  {
   "cell_type": "code",
   "execution_count": 30,
   "metadata": {},
   "outputs": [],
   "source": [
    "np_imdb = np.load(data_raw_dir + '/' + imdb_dir + '/Dataset.npy')\n",
    "\n",
    "df_imdb = pd.DataFrame(np_imdb)[0].str.split(',', expand=True)\n",
    "df_imdb.columns = ['user_id', 'movie_id', 'rating', 'timestamp']"
   ]
  },
  {
   "cell_type": "code",
   "execution_count": 31,
   "metadata": {},
   "outputs": [],
   "source": [
    "df_imdb['user_id'] = df_imdb['user_id'].astype(str)\n",
    "df_imdb['movie_id'] = df_imdb['movie_id'].astype(str)\n",
    "df_imdb['rating'] = pd.to_numeric(df_imdb['rating'], errors='coerce')\n",
    "df_imdb['timestamp'] = pd.to_datetime(df_imdb['timestamp'], format='%d %B %Y', errors='coerce')"
   ]
  },
  {
   "cell_type": "code",
   "execution_count": 33,
   "metadata": {},
   "outputs": [
    {
     "name": "stdout",
     "output_type": "stream",
     "text": [
      "<class 'pandas.core.frame.DataFrame'>\n",
      "RangeIndex: 4669820 entries, 0 to 4669819\n",
      "Data columns (total 4 columns):\n",
      " #   Column     Dtype         \n",
      "---  ------     -----         \n",
      " 0   user_id    object        \n",
      " 1   movie_id   object        \n",
      " 2   rating     int64         \n",
      " 3   timestamp  datetime64[ns]\n",
      "dtypes: datetime64[ns](1), int64(1), object(2)\n",
      "memory usage: 142.5+ MB\n"
     ]
    },
    {
     "data": {
      "text/html": [
       "<div>\n",
       "<style scoped>\n",
       "    .dataframe tbody tr th:only-of-type {\n",
       "        vertical-align: middle;\n",
       "    }\n",
       "\n",
       "    .dataframe tbody tr th {\n",
       "        vertical-align: top;\n",
       "    }\n",
       "\n",
       "    .dataframe thead th {\n",
       "        text-align: right;\n",
       "    }\n",
       "</style>\n",
       "<table border=\"1\" class=\"dataframe\">\n",
       "  <thead>\n",
       "    <tr style=\"text-align: right;\">\n",
       "      <th></th>\n",
       "      <th>user_id</th>\n",
       "      <th>movie_id</th>\n",
       "      <th>rating</th>\n",
       "      <th>timestamp</th>\n",
       "    </tr>\n",
       "  </thead>\n",
       "  <tbody>\n",
       "    <tr>\n",
       "      <th>0</th>\n",
       "      <td>ur4592644</td>\n",
       "      <td>tt0120884</td>\n",
       "      <td>10</td>\n",
       "      <td>2005-01-16</td>\n",
       "    </tr>\n",
       "    <tr>\n",
       "      <th>1</th>\n",
       "      <td>ur3174947</td>\n",
       "      <td>tt0118688</td>\n",
       "      <td>3</td>\n",
       "      <td>2005-01-16</td>\n",
       "    </tr>\n",
       "    <tr>\n",
       "      <th>2</th>\n",
       "      <td>ur3780035</td>\n",
       "      <td>tt0387887</td>\n",
       "      <td>8</td>\n",
       "      <td>2005-01-16</td>\n",
       "    </tr>\n",
       "    <tr>\n",
       "      <th>3</th>\n",
       "      <td>ur4592628</td>\n",
       "      <td>tt0346491</td>\n",
       "      <td>1</td>\n",
       "      <td>2005-01-16</td>\n",
       "    </tr>\n",
       "    <tr>\n",
       "      <th>4</th>\n",
       "      <td>ur3174947</td>\n",
       "      <td>tt0094721</td>\n",
       "      <td>8</td>\n",
       "      <td>2005-01-16</td>\n",
       "    </tr>\n",
       "  </tbody>\n",
       "</table>\n",
       "</div>"
      ],
      "text/plain": [
       "     user_id   movie_id  rating  timestamp\n",
       "0  ur4592644  tt0120884      10 2005-01-16\n",
       "1  ur3174947  tt0118688       3 2005-01-16\n",
       "2  ur3780035  tt0387887       8 2005-01-16\n",
       "3  ur4592628  tt0346491       1 2005-01-16\n",
       "4  ur3174947  tt0094721       8 2005-01-16"
      ]
     },
     "execution_count": 33,
     "metadata": {},
     "output_type": "execute_result"
    }
   ],
   "source": [
    "df_imdb.info()\n",
    "df_imdb.head()"
   ]
  },
  {
   "cell_type": "code",
   "execution_count": 34,
   "metadata": {},
   "outputs": [
    {
     "data": {
      "text/plain": [
       "user_id      0\n",
       "movie_id     0\n",
       "rating       0\n",
       "timestamp    0\n",
       "dtype: int64"
      ]
     },
     "execution_count": 34,
     "metadata": {},
     "output_type": "execute_result"
    }
   ],
   "source": [
    "df_imdb.isnull().sum()\n",
    "\n",
    "# Como não há valores nulos, não removemos nenhuma linha"
   ]
  },
  {
   "cell_type": "markdown",
   "metadata": {},
   "source": [
    "### Letterboxd"
   ]
  },
  {
   "cell_type": "code",
   "execution_count": 71,
   "metadata": {},
   "outputs": [
    {
     "name": "stderr",
     "output_type": "stream",
     "text": [
      "/tmp/ipykernel_8171/301504211.py:1: ParserWarning: Skipping line 6362: expected 4 fields, saw 6\n",
      "Skipping line 39607: expected 4 fields, saw 5\n",
      "Skipping line 79557: expected 4 fields, saw 5\n",
      "Skipping line 79706: expected 4 fields, saw 5\n",
      "Skipping line 105695: expected 4 fields, saw 5\n",
      "\n",
      "  df_letterboxd_films = pd.read_csv(\n",
      "/tmp/ipykernel_8171/301504211.py:1: ParserWarning: Skipping line 135402: expected 4 fields, saw 5\n",
      "Skipping line 155614: expected 4 fields, saw 6\n",
      "Skipping line 254568: expected 4 fields, saw 5\n",
      "\n",
      "  df_letterboxd_films = pd.read_csv(\n",
      "/tmp/ipykernel_8171/301504211.py:1: ParserWarning: Skipping line 280112: expected 4 fields, saw 5\n",
      "Skipping line 302786: expected 4 fields, saw 5\n",
      "Skipping line 311062: expected 4 fields, saw 5\n",
      "Skipping line 318176: expected 4 fields, saw 7\n",
      "Skipping line 350994: expected 4 fields, saw 5\n",
      "Skipping line 354958: expected 4 fields, saw 5\n",
      "\n",
      "  df_letterboxd_films = pd.read_csv(\n"
     ]
    },
    {
     "name": "stdout",
     "output_type": "stream",
     "text": [
      "<class 'pandas.core.frame.DataFrame'>\n",
      "RangeIndex: 355114 entries, 0 to 355113\n",
      "Data columns (total 4 columns):\n",
      " #   Column      Non-Null Count   Dtype  \n",
      "---  ------      --------------   -----  \n",
      " 0   film_id     355113 non-null  object \n",
      " 1   film_name   355113 non-null  object \n",
      " 2   year        349108 non-null  float64\n",
      " 3   poster_url  355114 non-null  object \n",
      "dtypes: float64(1), object(3)\n",
      "memory usage: 10.8+ MB\n"
     ]
    },
    {
     "data": {
      "text/html": [
       "<div>\n",
       "<style scoped>\n",
       "    .dataframe tbody tr th:only-of-type {\n",
       "        vertical-align: middle;\n",
       "    }\n",
       "\n",
       "    .dataframe tbody tr th {\n",
       "        vertical-align: top;\n",
       "    }\n",
       "\n",
       "    .dataframe thead th {\n",
       "        text-align: right;\n",
       "    }\n",
       "</style>\n",
       "<table border=\"1\" class=\"dataframe\">\n",
       "  <thead>\n",
       "    <tr style=\"text-align: right;\">\n",
       "      <th></th>\n",
       "      <th>film_id</th>\n",
       "      <th>film_name</th>\n",
       "      <th>year</th>\n",
       "      <th>poster_url</th>\n",
       "    </tr>\n",
       "  </thead>\n",
       "  <tbody>\n",
       "    <tr>\n",
       "      <th>0</th>\n",
       "      <td>anthem-of-a-teenage-prophet</td>\n",
       "      <td>Anthem of a Teenage Prophet</td>\n",
       "      <td>2018.0</td>\n",
       "      <td>https://a.ltrbxd.com/resized/film-poster/3/8/6...</td>\n",
       "    </tr>\n",
       "    <tr>\n",
       "      <th>1</th>\n",
       "      <td>elf-buddys-musical-christmas</td>\n",
       "      <td>Elf: Buddy's Musical Christmas</td>\n",
       "      <td>2014.0</td>\n",
       "      <td>https://a.ltrbxd.com/resized/film-poster/2/3/8...</td>\n",
       "    </tr>\n",
       "    <tr>\n",
       "      <th>2</th>\n",
       "      <td>look-at-us-now-mother</td>\n",
       "      <td>Look at Us Now, Mother!</td>\n",
       "      <td>2016.0</td>\n",
       "      <td>https://a.ltrbxd.com/resized/film-poster/3/2/6...</td>\n",
       "    </tr>\n",
       "    <tr>\n",
       "      <th>3</th>\n",
       "      <td>fate-grand-order-absolute-demonic-front-babylonia</td>\n",
       "      <td>Fate/Grand Order Absolute Demonic Front: Babyl...</td>\n",
       "      <td>2019.0</td>\n",
       "      <td>https://a.ltrbxd.com/resized/film-poster/6/7/1...</td>\n",
       "    </tr>\n",
       "    <tr>\n",
       "      <th>4</th>\n",
       "      <td>memory-2022</td>\n",
       "      <td>Memory</td>\n",
       "      <td>2022.0</td>\n",
       "      <td>https://a.ltrbxd.com/resized/film-poster/7/3/4...</td>\n",
       "    </tr>\n",
       "  </tbody>\n",
       "</table>\n",
       "</div>"
      ],
      "text/plain": [
       "                                             film_id  \\\n",
       "0                        anthem-of-a-teenage-prophet   \n",
       "1                       elf-buddys-musical-christmas   \n",
       "2                              look-at-us-now-mother   \n",
       "3  fate-grand-order-absolute-demonic-front-babylonia   \n",
       "4                                        memory-2022   \n",
       "\n",
       "                                           film_name    year  \\\n",
       "0                        Anthem of a Teenage Prophet  2018.0   \n",
       "1                     Elf: Buddy's Musical Christmas  2014.0   \n",
       "2                            Look at Us Now, Mother!  2016.0   \n",
       "3  Fate/Grand Order Absolute Demonic Front: Babyl...  2019.0   \n",
       "4                                             Memory  2022.0   \n",
       "\n",
       "                                          poster_url  \n",
       "0  https://a.ltrbxd.com/resized/film-poster/3/8/6...  \n",
       "1  https://a.ltrbxd.com/resized/film-poster/2/3/8...  \n",
       "2  https://a.ltrbxd.com/resized/film-poster/3/2/6...  \n",
       "3  https://a.ltrbxd.com/resized/film-poster/6/7/1...  \n",
       "4  https://a.ltrbxd.com/resized/film-poster/7/3/4...  "
      ]
     },
     "execution_count": 71,
     "metadata": {},
     "output_type": "execute_result"
    }
   ],
   "source": [
    "df_letterboxd_films = pd.read_csv(\n",
    "    data_raw_dir + '/' + letterboxd_dir + '/films.csv',\n",
    "    on_bad_lines='warn')\n",
    "df_letterboxd_films.info()\n",
    "df_letterboxd_films.head()"
   ]
  },
  {
   "cell_type": "code",
   "execution_count": 38,
   "metadata": {},
   "outputs": [
    {
     "name": "stdout",
     "output_type": "stream",
     "text": [
      "<class 'pandas.core.frame.DataFrame'>\n",
      "RangeIndex: 18175545 entries, 0 to 18175544\n",
      "Data columns (total 3 columns):\n",
      " #   Column     Dtype  \n",
      "---  ------     -----  \n",
      " 0   user_name  object \n",
      " 1   film_id    object \n",
      " 2   rating     float64\n",
      "dtypes: float64(1), object(2)\n",
      "memory usage: 416.0+ MB\n"
     ]
    },
    {
     "data": {
      "text/html": [
       "<div>\n",
       "<style scoped>\n",
       "    .dataframe tbody tr th:only-of-type {\n",
       "        vertical-align: middle;\n",
       "    }\n",
       "\n",
       "    .dataframe tbody tr th {\n",
       "        vertical-align: top;\n",
       "    }\n",
       "\n",
       "    .dataframe thead th {\n",
       "        text-align: right;\n",
       "    }\n",
       "</style>\n",
       "<table border=\"1\" class=\"dataframe\">\n",
       "  <thead>\n",
       "    <tr style=\"text-align: right;\">\n",
       "      <th></th>\n",
       "      <th>user_name</th>\n",
       "      <th>film_id</th>\n",
       "      <th>rating</th>\n",
       "    </tr>\n",
       "  </thead>\n",
       "  <tbody>\n",
       "    <tr>\n",
       "      <th>0</th>\n",
       "      <td>kurstboy</td>\n",
       "      <td>spider-man-2</td>\n",
       "      <td>4.5</td>\n",
       "    </tr>\n",
       "    <tr>\n",
       "      <th>1</th>\n",
       "      <td>kurstboy</td>\n",
       "      <td>tetsuo-the-iron-man</td>\n",
       "      <td>4.0</td>\n",
       "    </tr>\n",
       "    <tr>\n",
       "      <th>2</th>\n",
       "      <td>kurstboy</td>\n",
       "      <td>bram-stokers-dracula</td>\n",
       "      <td>4.5</td>\n",
       "    </tr>\n",
       "    <tr>\n",
       "      <th>3</th>\n",
       "      <td>kurstboy</td>\n",
       "      <td>poison-2023</td>\n",
       "      <td>4.5</td>\n",
       "    </tr>\n",
       "    <tr>\n",
       "      <th>4</th>\n",
       "      <td>kurstboy</td>\n",
       "      <td>the-rat-catcher-2023</td>\n",
       "      <td>3.5</td>\n",
       "    </tr>\n",
       "  </tbody>\n",
       "</table>\n",
       "</div>"
      ],
      "text/plain": [
       "  user_name               film_id  rating\n",
       "0  kurstboy          spider-man-2     4.5\n",
       "1  kurstboy   tetsuo-the-iron-man     4.0\n",
       "2  kurstboy  bram-stokers-dracula     4.5\n",
       "3  kurstboy           poison-2023     4.5\n",
       "4  kurstboy  the-rat-catcher-2023     3.5"
      ]
     },
     "execution_count": 38,
     "metadata": {},
     "output_type": "execute_result"
    }
   ],
   "source": [
    "df_letterboxd_ratings = pd.read_csv(data_raw_dir + '/' + letterboxd_dir + '/ratings.csv')\n",
    "df_letterboxd_ratings.info()\n",
    "df_letterboxd_ratings.head()"
   ]
  },
  {
   "cell_type": "code",
   "execution_count": 72,
   "metadata": {},
   "outputs": [
    {
     "data": {
      "text/plain": [
       "film_id          1\n",
       "film_name        1\n",
       "year          6006\n",
       "poster_url       0\n",
       "dtype: int64"
      ]
     },
     "execution_count": 72,
     "metadata": {},
     "output_type": "execute_result"
    }
   ],
   "source": [
    "df_letterboxd_films.isnull().sum()"
   ]
  },
  {
   "cell_type": "code",
   "execution_count": 75,
   "metadata": {},
   "outputs": [
    {
     "data": {
      "text/plain": [
       "film_id          0\n",
       "film_name        0\n",
       "year          6006\n",
       "poster_url       0\n",
       "dtype: int64"
      ]
     },
     "execution_count": 75,
     "metadata": {},
     "output_type": "execute_result"
    }
   ],
   "source": [
    "df_letterboxd_films.dropna(subset=['film_id', 'film_name'], inplace=True)\n",
    "df_letterboxd_films.isnull().sum()"
   ]
  },
  {
   "cell_type": "code",
   "execution_count": 60,
   "metadata": {},
   "outputs": [
    {
     "data": {
      "text/plain": [
       "user_name    0\n",
       "film_id      8\n",
       "rating       0\n",
       "dtype: int64"
      ]
     },
     "execution_count": 60,
     "metadata": {},
     "output_type": "execute_result"
    }
   ],
   "source": [
    "df_letterboxd_ratings.isnull().sum()"
   ]
  },
  {
   "cell_type": "code",
   "execution_count": 76,
   "metadata": {},
   "outputs": [
    {
     "data": {
      "text/plain": [
       "user_name    0\n",
       "film_id      0\n",
       "rating       0\n",
       "dtype: int64"
      ]
     },
     "execution_count": 76,
     "metadata": {},
     "output_type": "execute_result"
    }
   ],
   "source": [
    "df_letterboxd_ratings = df_letterboxd_ratings.dropna(subset=['film_id', 'rating'])\n",
    "df_letterboxd_ratings.isnull().sum()"
   ]
  },
  {
   "cell_type": "code",
   "execution_count": 84,
   "metadata": {},
   "outputs": [
    {
     "name": "stdout",
     "output_type": "stream",
     "text": [
      "<class 'pandas.core.frame.DataFrame'>\n",
      "RangeIndex: 18175268 entries, 0 to 18175267\n",
      "Data columns (total 6 columns):\n",
      " #   Column      Dtype  \n",
      "---  ------      -----  \n",
      " 0   user_name   object \n",
      " 1   film_id     object \n",
      " 2   rating      float64\n",
      " 3   film_name   object \n",
      " 4   year        float64\n",
      " 5   poster_url  object \n",
      "dtypes: float64(2), object(4)\n",
      "memory usage: 832.0+ MB\n"
     ]
    },
    {
     "data": {
      "text/html": [
       "<div>\n",
       "<style scoped>\n",
       "    .dataframe tbody tr th:only-of-type {\n",
       "        vertical-align: middle;\n",
       "    }\n",
       "\n",
       "    .dataframe tbody tr th {\n",
       "        vertical-align: top;\n",
       "    }\n",
       "\n",
       "    .dataframe thead th {\n",
       "        text-align: right;\n",
       "    }\n",
       "</style>\n",
       "<table border=\"1\" class=\"dataframe\">\n",
       "  <thead>\n",
       "    <tr style=\"text-align: right;\">\n",
       "      <th></th>\n",
       "      <th>user_name</th>\n",
       "      <th>film_id</th>\n",
       "      <th>rating</th>\n",
       "      <th>film_name</th>\n",
       "      <th>year</th>\n",
       "      <th>poster_url</th>\n",
       "    </tr>\n",
       "  </thead>\n",
       "  <tbody>\n",
       "    <tr>\n",
       "      <th>0</th>\n",
       "      <td>kurstboy</td>\n",
       "      <td>spider-man-2</td>\n",
       "      <td>4.5</td>\n",
       "      <td>Spider-Man 2</td>\n",
       "      <td>2004.0</td>\n",
       "      <td>https://a.ltrbxd.com/resized/sm/upload/pq/mi/k...</td>\n",
       "    </tr>\n",
       "    <tr>\n",
       "      <th>1</th>\n",
       "      <td>kurstboy</td>\n",
       "      <td>tetsuo-the-iron-man</td>\n",
       "      <td>4.0</td>\n",
       "      <td>Tetsuo: The Iron Man</td>\n",
       "      <td>1989.0</td>\n",
       "      <td>https://a.ltrbxd.com/resized/sm/upload/nk/ig/t...</td>\n",
       "    </tr>\n",
       "    <tr>\n",
       "      <th>2</th>\n",
       "      <td>kurstboy</td>\n",
       "      <td>bram-stokers-dracula</td>\n",
       "      <td>4.5</td>\n",
       "      <td>Bram Stoker's Dracula</td>\n",
       "      <td>1992.0</td>\n",
       "      <td>https://a.ltrbxd.com/resized/film-poster/4/8/4...</td>\n",
       "    </tr>\n",
       "    <tr>\n",
       "      <th>3</th>\n",
       "      <td>kurstboy</td>\n",
       "      <td>poison-2023</td>\n",
       "      <td>4.5</td>\n",
       "      <td>Poison</td>\n",
       "      <td>2023.0</td>\n",
       "      <td>https://a.ltrbxd.com/resized/film-poster/1/0/5...</td>\n",
       "    </tr>\n",
       "    <tr>\n",
       "      <th>4</th>\n",
       "      <td>kurstboy</td>\n",
       "      <td>the-rat-catcher-2023</td>\n",
       "      <td>3.5</td>\n",
       "      <td>The Rat Catcher</td>\n",
       "      <td>2023.0</td>\n",
       "      <td>https://a.ltrbxd.com/resized/film-poster/1/0/5...</td>\n",
       "    </tr>\n",
       "  </tbody>\n",
       "</table>\n",
       "</div>"
      ],
      "text/plain": [
       "  user_name               film_id  rating              film_name    year  \\\n",
       "0  kurstboy          spider-man-2     4.5           Spider-Man 2  2004.0   \n",
       "1  kurstboy   tetsuo-the-iron-man     4.0   Tetsuo: The Iron Man  1989.0   \n",
       "2  kurstboy  bram-stokers-dracula     4.5  Bram Stoker's Dracula  1992.0   \n",
       "3  kurstboy           poison-2023     4.5                 Poison  2023.0   \n",
       "4  kurstboy  the-rat-catcher-2023     3.5        The Rat Catcher  2023.0   \n",
       "\n",
       "                                          poster_url  \n",
       "0  https://a.ltrbxd.com/resized/sm/upload/pq/mi/k...  \n",
       "1  https://a.ltrbxd.com/resized/sm/upload/nk/ig/t...  \n",
       "2  https://a.ltrbxd.com/resized/film-poster/4/8/4...  \n",
       "3  https://a.ltrbxd.com/resized/film-poster/1/0/5...  \n",
       "4  https://a.ltrbxd.com/resized/film-poster/1/0/5...  "
      ]
     },
     "execution_count": 84,
     "metadata": {},
     "output_type": "execute_result"
    }
   ],
   "source": [
    "df_letterboxd = pd.merge(\n",
    "    df_letterboxd_ratings,\n",
    "    df_letterboxd_films,\n",
    "    how='inner',\n",
    "    left_on='film_id',\n",
    "    right_on='film_id')\n",
    "\n",
    "df_letterboxd.info()\n",
    "df_letterboxd.head()"
   ]
  },
  {
   "cell_type": "markdown",
   "metadata": {},
   "source": [
    "### Rotten Tomatoes"
   ]
  },
  {
   "cell_type": "code",
   "execution_count": 68,
   "metadata": {},
   "outputs": [
    {
     "name": "stdout",
     "output_type": "stream",
     "text": [
      "<class 'pandas.core.frame.DataFrame'>\n",
      "RangeIndex: 143258 entries, 0 to 143257\n",
      "Data columns (total 16 columns):\n",
      " #   Column                Non-Null Count   Dtype  \n",
      "---  ------                --------------   -----  \n",
      " 0   id                    143258 non-null  object \n",
      " 1   title                 142891 non-null  object \n",
      " 2   audienceScore         73248 non-null   float64\n",
      " 3   tomatoMeter           33877 non-null   float64\n",
      " 4   rating                13991 non-null   object \n",
      " 5   ratingContents        13991 non-null   object \n",
      " 6   releaseDateTheaters   30773 non-null   object \n",
      " 7   releaseDateStreaming  79420 non-null   object \n",
      " 8   runtimeMinutes        129431 non-null  float64\n",
      " 9   genre                 132175 non-null  object \n",
      " 10  originalLanguage      129400 non-null  object \n",
      " 11  director              139041 non-null  object \n",
      " 12  writer                90116 non-null   object \n",
      " 13  boxOffice             14743 non-null   object \n",
      " 14  distributor           23001 non-null   object \n",
      " 15  soundMix              15917 non-null   object \n",
      "dtypes: float64(3), object(13)\n",
      "memory usage: 17.5+ MB\n"
     ]
    },
    {
     "data": {
      "text/html": [
       "<div>\n",
       "<style scoped>\n",
       "    .dataframe tbody tr th:only-of-type {\n",
       "        vertical-align: middle;\n",
       "    }\n",
       "\n",
       "    .dataframe tbody tr th {\n",
       "        vertical-align: top;\n",
       "    }\n",
       "\n",
       "    .dataframe thead th {\n",
       "        text-align: right;\n",
       "    }\n",
       "</style>\n",
       "<table border=\"1\" class=\"dataframe\">\n",
       "  <thead>\n",
       "    <tr style=\"text-align: right;\">\n",
       "      <th></th>\n",
       "      <th>id</th>\n",
       "      <th>title</th>\n",
       "      <th>audienceScore</th>\n",
       "      <th>tomatoMeter</th>\n",
       "      <th>rating</th>\n",
       "      <th>ratingContents</th>\n",
       "      <th>releaseDateTheaters</th>\n",
       "      <th>releaseDateStreaming</th>\n",
       "      <th>runtimeMinutes</th>\n",
       "      <th>genre</th>\n",
       "      <th>originalLanguage</th>\n",
       "      <th>director</th>\n",
       "      <th>writer</th>\n",
       "      <th>boxOffice</th>\n",
       "      <th>distributor</th>\n",
       "      <th>soundMix</th>\n",
       "    </tr>\n",
       "  </thead>\n",
       "  <tbody>\n",
       "    <tr>\n",
       "      <th>0</th>\n",
       "      <td>space-zombie-bingo</td>\n",
       "      <td>Space Zombie Bingo!</td>\n",
       "      <td>50.0</td>\n",
       "      <td>NaN</td>\n",
       "      <td>NaN</td>\n",
       "      <td>NaN</td>\n",
       "      <td>NaN</td>\n",
       "      <td>2018-08-25</td>\n",
       "      <td>75.0</td>\n",
       "      <td>Comedy, Horror, Sci-fi</td>\n",
       "      <td>English</td>\n",
       "      <td>George Ormrod</td>\n",
       "      <td>George Ormrod,John Sabotta</td>\n",
       "      <td>NaN</td>\n",
       "      <td>NaN</td>\n",
       "      <td>NaN</td>\n",
       "    </tr>\n",
       "    <tr>\n",
       "      <th>1</th>\n",
       "      <td>the_green_grass</td>\n",
       "      <td>The Green Grass</td>\n",
       "      <td>NaN</td>\n",
       "      <td>NaN</td>\n",
       "      <td>NaN</td>\n",
       "      <td>NaN</td>\n",
       "      <td>NaN</td>\n",
       "      <td>2020-02-11</td>\n",
       "      <td>114.0</td>\n",
       "      <td>Drama</td>\n",
       "      <td>English</td>\n",
       "      <td>Tiffany Edwards</td>\n",
       "      <td>Tiffany Edwards</td>\n",
       "      <td>NaN</td>\n",
       "      <td>NaN</td>\n",
       "      <td>NaN</td>\n",
       "    </tr>\n",
       "    <tr>\n",
       "      <th>2</th>\n",
       "      <td>love_lies</td>\n",
       "      <td>Love, Lies</td>\n",
       "      <td>43.0</td>\n",
       "      <td>NaN</td>\n",
       "      <td>NaN</td>\n",
       "      <td>NaN</td>\n",
       "      <td>NaN</td>\n",
       "      <td>NaN</td>\n",
       "      <td>120.0</td>\n",
       "      <td>Drama</td>\n",
       "      <td>Korean</td>\n",
       "      <td>Park Heung-Sik,Heung-Sik Park</td>\n",
       "      <td>Ha Young-Joon,Jeon Yun-su,Song Hye-jin</td>\n",
       "      <td>NaN</td>\n",
       "      <td>NaN</td>\n",
       "      <td>NaN</td>\n",
       "    </tr>\n",
       "    <tr>\n",
       "      <th>3</th>\n",
       "      <td>the_sore_losers_1997</td>\n",
       "      <td>Sore Losers</td>\n",
       "      <td>60.0</td>\n",
       "      <td>NaN</td>\n",
       "      <td>NaN</td>\n",
       "      <td>NaN</td>\n",
       "      <td>NaN</td>\n",
       "      <td>2020-10-23</td>\n",
       "      <td>90.0</td>\n",
       "      <td>Action, Mystery &amp; thriller</td>\n",
       "      <td>English</td>\n",
       "      <td>John Michael McCarthy</td>\n",
       "      <td>John Michael McCarthy</td>\n",
       "      <td>NaN</td>\n",
       "      <td>NaN</td>\n",
       "      <td>NaN</td>\n",
       "    </tr>\n",
       "    <tr>\n",
       "      <th>4</th>\n",
       "      <td>dinosaur_island_2002</td>\n",
       "      <td>Dinosaur Island</td>\n",
       "      <td>70.0</td>\n",
       "      <td>NaN</td>\n",
       "      <td>NaN</td>\n",
       "      <td>NaN</td>\n",
       "      <td>NaN</td>\n",
       "      <td>2017-03-27</td>\n",
       "      <td>80.0</td>\n",
       "      <td>Fantasy, Adventure, Animation</td>\n",
       "      <td>English</td>\n",
       "      <td>Will Meugniot</td>\n",
       "      <td>John Loy</td>\n",
       "      <td>NaN</td>\n",
       "      <td>NaN</td>\n",
       "      <td>NaN</td>\n",
       "    </tr>\n",
       "  </tbody>\n",
       "</table>\n",
       "</div>"
      ],
      "text/plain": [
       "                     id                title  audienceScore  tomatoMeter  \\\n",
       "0    space-zombie-bingo  Space Zombie Bingo!           50.0          NaN   \n",
       "1       the_green_grass      The Green Grass            NaN          NaN   \n",
       "2             love_lies           Love, Lies           43.0          NaN   \n",
       "3  the_sore_losers_1997          Sore Losers           60.0          NaN   \n",
       "4  dinosaur_island_2002      Dinosaur Island           70.0          NaN   \n",
       "\n",
       "  rating ratingContents releaseDateTheaters releaseDateStreaming  \\\n",
       "0    NaN            NaN                 NaN           2018-08-25   \n",
       "1    NaN            NaN                 NaN           2020-02-11   \n",
       "2    NaN            NaN                 NaN                  NaN   \n",
       "3    NaN            NaN                 NaN           2020-10-23   \n",
       "4    NaN            NaN                 NaN           2017-03-27   \n",
       "\n",
       "   runtimeMinutes                          genre originalLanguage  \\\n",
       "0            75.0         Comedy, Horror, Sci-fi          English   \n",
       "1           114.0                          Drama          English   \n",
       "2           120.0                          Drama           Korean   \n",
       "3            90.0     Action, Mystery & thriller          English   \n",
       "4            80.0  Fantasy, Adventure, Animation          English   \n",
       "\n",
       "                        director                                  writer  \\\n",
       "0                  George Ormrod              George Ormrod,John Sabotta   \n",
       "1                Tiffany Edwards                         Tiffany Edwards   \n",
       "2  Park Heung-Sik,Heung-Sik Park  Ha Young-Joon,Jeon Yun-su,Song Hye-jin   \n",
       "3          John Michael McCarthy                   John Michael McCarthy   \n",
       "4                  Will Meugniot                                John Loy   \n",
       "\n",
       "  boxOffice distributor soundMix  \n",
       "0       NaN         NaN      NaN  \n",
       "1       NaN         NaN      NaN  \n",
       "2       NaN         NaN      NaN  \n",
       "3       NaN         NaN      NaN  \n",
       "4       NaN         NaN      NaN  "
      ]
     },
     "execution_count": 68,
     "metadata": {},
     "output_type": "execute_result"
    }
   ],
   "source": [
    "df_rt_movies = pd.read_csv(\n",
    "    data_raw_dir + '/' + rt_dir + '/rotten_tomatoes_movies.csv')\n",
    "df_rt_movies.info()\n",
    "df_rt_movies.head()"
   ]
  },
  {
   "cell_type": "code",
   "execution_count": 77,
   "metadata": {},
   "outputs": [
    {
     "data": {
      "text/plain": [
       "id                           0\n",
       "title                      367\n",
       "audienceScore            70010\n",
       "tomatoMeter             109381\n",
       "rating                  129267\n",
       "ratingContents          129267\n",
       "releaseDateTheaters     112485\n",
       "releaseDateStreaming     63838\n",
       "runtimeMinutes           13827\n",
       "genre                    11083\n",
       "originalLanguage         13858\n",
       "director                  4217\n",
       "writer                   53142\n",
       "boxOffice               128515\n",
       "distributor             120257\n",
       "soundMix                127341\n",
       "dtype: int64"
      ]
     },
     "execution_count": 77,
     "metadata": {},
     "output_type": "execute_result"
    }
   ],
   "source": [
    "df_rt_movies.isnull().sum()"
   ]
  },
  {
   "cell_type": "code",
   "execution_count": 78,
   "metadata": {},
   "outputs": [
    {
     "data": {
      "text/plain": [
       "id                           0\n",
       "title                        0\n",
       "audienceScore            69643\n",
       "tomatoMeter             109014\n",
       "rating                  128905\n",
       "ratingContents          128905\n",
       "releaseDateTheaters     112129\n",
       "releaseDateStreaming     63511\n",
       "runtimeMinutes           13522\n",
       "genre                    10783\n",
       "originalLanguage         13558\n",
       "director                  3924\n",
       "writer                   52817\n",
       "boxOffice               128150\n",
       "distributor             119897\n",
       "soundMix                126978\n",
       "dtype: int64"
      ]
     },
     "execution_count": 78,
     "metadata": {},
     "output_type": "execute_result"
    }
   ],
   "source": [
    "df_rt_movies.dropna(subset=['id', 'title'], inplace=True)\n",
    "df_rt_movies.isnull().sum()"
   ]
  },
  {
   "cell_type": "code",
   "execution_count": 79,
   "metadata": {},
   "outputs": [
    {
     "name": "stdout",
     "output_type": "stream",
     "text": [
      "<class 'pandas.core.frame.DataFrame'>\n",
      "RangeIndex: 1444963 entries, 0 to 1444962\n",
      "Data columns (total 11 columns):\n",
      " #   Column          Non-Null Count    Dtype \n",
      "---  ------          --------------    ----- \n",
      " 0   id              1444963 non-null  object\n",
      " 1   reviewId        1444963 non-null  int64 \n",
      " 2   creationDate    1444963 non-null  object\n",
      " 3   criticName      1444963 non-null  object\n",
      " 4   isTopCritic     1444963 non-null  bool  \n",
      " 5   originalScore   1009745 non-null  object\n",
      " 6   reviewState     1444963 non-null  object\n",
      " 7   publicatioName  1444963 non-null  object\n",
      " 8   reviewText      1375738 non-null  object\n",
      " 9   scoreSentiment  1444963 non-null  object\n",
      " 10  reviewUrl       1234038 non-null  object\n",
      "dtypes: bool(1), int64(1), object(9)\n",
      "memory usage: 111.6+ MB\n"
     ]
    },
    {
     "data": {
      "text/html": [
       "<div>\n",
       "<style scoped>\n",
       "    .dataframe tbody tr th:only-of-type {\n",
       "        vertical-align: middle;\n",
       "    }\n",
       "\n",
       "    .dataframe tbody tr th {\n",
       "        vertical-align: top;\n",
       "    }\n",
       "\n",
       "    .dataframe thead th {\n",
       "        text-align: right;\n",
       "    }\n",
       "</style>\n",
       "<table border=\"1\" class=\"dataframe\">\n",
       "  <thead>\n",
       "    <tr style=\"text-align: right;\">\n",
       "      <th></th>\n",
       "      <th>id</th>\n",
       "      <th>reviewId</th>\n",
       "      <th>creationDate</th>\n",
       "      <th>criticName</th>\n",
       "      <th>isTopCritic</th>\n",
       "      <th>originalScore</th>\n",
       "      <th>reviewState</th>\n",
       "      <th>publicatioName</th>\n",
       "      <th>reviewText</th>\n",
       "      <th>scoreSentiment</th>\n",
       "      <th>reviewUrl</th>\n",
       "    </tr>\n",
       "  </thead>\n",
       "  <tbody>\n",
       "    <tr>\n",
       "      <th>0</th>\n",
       "      <td>beavers</td>\n",
       "      <td>1145982</td>\n",
       "      <td>2003-05-23</td>\n",
       "      <td>Ivan M. Lincoln</td>\n",
       "      <td>False</td>\n",
       "      <td>3.5/4</td>\n",
       "      <td>fresh</td>\n",
       "      <td>Deseret News (Salt Lake City)</td>\n",
       "      <td>Timed to be just long enough for most youngste...</td>\n",
       "      <td>POSITIVE</td>\n",
       "      <td>http://www.deseretnews.com/article/700003233/B...</td>\n",
       "    </tr>\n",
       "    <tr>\n",
       "      <th>1</th>\n",
       "      <td>blood_mask</td>\n",
       "      <td>1636744</td>\n",
       "      <td>2007-06-02</td>\n",
       "      <td>The Foywonder</td>\n",
       "      <td>False</td>\n",
       "      <td>1/5</td>\n",
       "      <td>rotten</td>\n",
       "      <td>Dread Central</td>\n",
       "      <td>It doesn't matter if a movie costs 300 million...</td>\n",
       "      <td>NEGATIVE</td>\n",
       "      <td>http://www.dreadcentral.com/index.php?name=Rev...</td>\n",
       "    </tr>\n",
       "    <tr>\n",
       "      <th>2</th>\n",
       "      <td>city_hunter_shinjuku_private_eyes</td>\n",
       "      <td>2590987</td>\n",
       "      <td>2019-05-28</td>\n",
       "      <td>Reuben Baron</td>\n",
       "      <td>False</td>\n",
       "      <td>NaN</td>\n",
       "      <td>fresh</td>\n",
       "      <td>CBR</td>\n",
       "      <td>The choreography is so precise and lifelike at...</td>\n",
       "      <td>POSITIVE</td>\n",
       "      <td>https://www.cbr.com/city-hunter-shinjuku-priva...</td>\n",
       "    </tr>\n",
       "    <tr>\n",
       "      <th>3</th>\n",
       "      <td>city_hunter_shinjuku_private_eyes</td>\n",
       "      <td>2558908</td>\n",
       "      <td>2019-02-14</td>\n",
       "      <td>Matt Schley</td>\n",
       "      <td>False</td>\n",
       "      <td>2.5/5</td>\n",
       "      <td>rotten</td>\n",
       "      <td>Japan Times</td>\n",
       "      <td>The film's out-of-touch attempts at humor may ...</td>\n",
       "      <td>NEGATIVE</td>\n",
       "      <td>https://www.japantimes.co.jp/culture/2019/02/0...</td>\n",
       "    </tr>\n",
       "    <tr>\n",
       "      <th>4</th>\n",
       "      <td>dangerous_men_2015</td>\n",
       "      <td>2504681</td>\n",
       "      <td>2018-08-29</td>\n",
       "      <td>Pat Padua</td>\n",
       "      <td>False</td>\n",
       "      <td>NaN</td>\n",
       "      <td>fresh</td>\n",
       "      <td>DCist</td>\n",
       "      <td>Its clumsy determination is endearing and some...</td>\n",
       "      <td>POSITIVE</td>\n",
       "      <td>http://dcist.com/2015/11/out_of_frame_dangerou...</td>\n",
       "    </tr>\n",
       "  </tbody>\n",
       "</table>\n",
       "</div>"
      ],
      "text/plain": [
       "                                  id  reviewId creationDate       criticName  \\\n",
       "0                            beavers   1145982   2003-05-23  Ivan M. Lincoln   \n",
       "1                         blood_mask   1636744   2007-06-02    The Foywonder   \n",
       "2  city_hunter_shinjuku_private_eyes   2590987   2019-05-28     Reuben Baron   \n",
       "3  city_hunter_shinjuku_private_eyes   2558908   2019-02-14      Matt Schley   \n",
       "4                 dangerous_men_2015   2504681   2018-08-29        Pat Padua   \n",
       "\n",
       "   isTopCritic originalScore reviewState                 publicatioName  \\\n",
       "0        False         3.5/4       fresh  Deseret News (Salt Lake City)   \n",
       "1        False           1/5      rotten                  Dread Central   \n",
       "2        False           NaN       fresh                            CBR   \n",
       "3        False         2.5/5      rotten                    Japan Times   \n",
       "4        False           NaN       fresh                          DCist   \n",
       "\n",
       "                                          reviewText scoreSentiment  \\\n",
       "0  Timed to be just long enough for most youngste...       POSITIVE   \n",
       "1  It doesn't matter if a movie costs 300 million...       NEGATIVE   \n",
       "2  The choreography is so precise and lifelike at...       POSITIVE   \n",
       "3  The film's out-of-touch attempts at humor may ...       NEGATIVE   \n",
       "4  Its clumsy determination is endearing and some...       POSITIVE   \n",
       "\n",
       "                                           reviewUrl  \n",
       "0  http://www.deseretnews.com/article/700003233/B...  \n",
       "1  http://www.dreadcentral.com/index.php?name=Rev...  \n",
       "2  https://www.cbr.com/city-hunter-shinjuku-priva...  \n",
       "3  https://www.japantimes.co.jp/culture/2019/02/0...  \n",
       "4  http://dcist.com/2015/11/out_of_frame_dangerou...  "
      ]
     },
     "execution_count": 79,
     "metadata": {},
     "output_type": "execute_result"
    }
   ],
   "source": [
    "df_rt_reviews = pd.read_csv(\n",
    "    data_raw_dir + '/' + rt_dir + '/rotten_tomatoes_movie_reviews.csv')\n",
    "df_rt_reviews.info()\n",
    "df_rt_reviews.head()"
   ]
  },
  {
   "cell_type": "code",
   "execution_count": 80,
   "metadata": {},
   "outputs": [
    {
     "data": {
      "text/plain": [
       "id                     0\n",
       "reviewId               0\n",
       "creationDate           0\n",
       "criticName             0\n",
       "isTopCritic            0\n",
       "originalScore     435218\n",
       "reviewState            0\n",
       "publicatioName         0\n",
       "reviewText         69225\n",
       "scoreSentiment         0\n",
       "reviewUrl         210925\n",
       "dtype: int64"
      ]
     },
     "execution_count": 80,
     "metadata": {},
     "output_type": "execute_result"
    }
   ],
   "source": [
    "df_rt_reviews.isnull().sum()"
   ]
  },
  {
   "cell_type": "code",
   "execution_count": 81,
   "metadata": {},
   "outputs": [
    {
     "data": {
      "text/plain": [
       "id                     0\n",
       "reviewId               0\n",
       "creationDate           0\n",
       "criticName             0\n",
       "isTopCritic            0\n",
       "originalScore          0\n",
       "reviewState            0\n",
       "publicatioName         0\n",
       "reviewText         69054\n",
       "scoreSentiment         0\n",
       "reviewUrl         163277\n",
       "dtype: int64"
      ]
     },
     "execution_count": 81,
     "metadata": {},
     "output_type": "execute_result"
    }
   ],
   "source": [
    "df_rt_reviews.dropna(subset=['originalScore'], inplace=True)\n",
    "df_rt_reviews.isnull().sum()"
   ]
  },
  {
   "cell_type": "code",
   "execution_count": 11,
   "metadata": {},
   "outputs": [
    {
     "ename": "NameError",
     "evalue": "name 'df_rt_reviews' is not defined",
     "output_type": "error",
     "traceback": [
      "\u001b[0;31m---------------------------------------------------------------------------\u001b[0m",
      "\u001b[0;31mNameError\u001b[0m                                 Traceback (most recent call last)",
      "Cell \u001b[0;32mIn[11], line 3\u001b[0m\n\u001b[1;32m      1\u001b[0m \u001b[38;5;66;03m# TODO: transform originalScore to numeric, normalize it to 0-5 and add it as rating\u001b[39;00m\n\u001b[0;32m----> 3\u001b[0m df_rt_reviews[\u001b[38;5;124m'\u001b[39m\u001b[38;5;124mrating\u001b[39m\u001b[38;5;124m'\u001b[39m] \u001b[38;5;241m=\u001b[39m pd\u001b[38;5;241m.\u001b[39mto_numeric(\u001b[43mdf_rt_reviews\u001b[49m[\u001b[38;5;124m'\u001b[39m\u001b[38;5;124moriginalScore\u001b[39m\u001b[38;5;124m'\u001b[39m], errors\u001b[38;5;241m=\u001b[39m\u001b[38;5;124m'\u001b[39m\u001b[38;5;124mcoerce\u001b[39m\u001b[38;5;124m'\u001b[39m)\n\u001b[1;32m      4\u001b[0m df_rt_reviews[\u001b[38;5;124m'\u001b[39m\u001b[38;5;124mrating\u001b[39m\u001b[38;5;124m'\u001b[39m]\n",
      "\u001b[0;31mNameError\u001b[0m: name 'df_rt_reviews' is not defined"
     ]
    }
   ],
   "source": [
    "# TODO: transform originalScore to numeric, normalize it to 0-5 and add it as rating\n",
    "\n",
    "df_rt_reviews['rating'] = pd.to_numeric(df_rt_reviews['originalScore'], errors='coerce')\n",
    "df_rt_reviews['rating']"
   ]
  },
  {
   "cell_type": "code",
   "execution_count": 83,
   "metadata": {},
   "outputs": [
    {
     "name": "stdout",
     "output_type": "stream",
     "text": [
      "<class 'pandas.core.frame.DataFrame'>\n",
      "RangeIndex: 1022727 entries, 0 to 1022726\n",
      "Data columns (total 26 columns):\n",
      " #   Column                Non-Null Count    Dtype  \n",
      "---  ------                --------------    -----  \n",
      " 0   id                    1022727 non-null  object \n",
      " 1   title                 1022727 non-null  object \n",
      " 2   audienceScore         987937 non-null   float64\n",
      " 3   tomatoMeter           982304 non-null   float64\n",
      " 4   rating                649371 non-null   object \n",
      " 5   ratingContents        649371 non-null   object \n",
      " 6   releaseDateTheaters   842282 non-null   object \n",
      " 7   releaseDateStreaming  958288 non-null   object \n",
      " 8   runtimeMinutes        1009177 non-null  float64\n",
      " 9   genre                 1011979 non-null  object \n",
      " 10  originalLanguage      1009112 non-null  object \n",
      " 11  director              1020412 non-null  object \n",
      " 12  writer                924140 non-null   object \n",
      " 13  boxOffice             733854 non-null   object \n",
      " 14  distributor           807729 non-null   object \n",
      " 15  soundMix              512232 non-null   object \n",
      " 16  reviewId              1022727 non-null  int64  \n",
      " 17  creationDate          1022727 non-null  object \n",
      " 18  criticName            1022727 non-null  object \n",
      " 19  isTopCritic           1022727 non-null  bool   \n",
      " 20  originalScore         1022727 non-null  object \n",
      " 21  reviewState           1022727 non-null  object \n",
      " 22  publicatioName        1022727 non-null  object \n",
      " 23  reviewText            952850 non-null   object \n",
      " 24  scoreSentiment        1022727 non-null  object \n",
      " 25  reviewUrl             857324 non-null   object \n",
      "dtypes: bool(1), float64(3), int64(1), object(21)\n",
      "memory usage: 196.0+ MB\n"
     ]
    },
    {
     "data": {
      "text/html": [
       "<div>\n",
       "<style scoped>\n",
       "    .dataframe tbody tr th:only-of-type {\n",
       "        vertical-align: middle;\n",
       "    }\n",
       "\n",
       "    .dataframe tbody tr th {\n",
       "        vertical-align: top;\n",
       "    }\n",
       "\n",
       "    .dataframe thead th {\n",
       "        text-align: right;\n",
       "    }\n",
       "</style>\n",
       "<table border=\"1\" class=\"dataframe\">\n",
       "  <thead>\n",
       "    <tr style=\"text-align: right;\">\n",
       "      <th></th>\n",
       "      <th>id</th>\n",
       "      <th>title</th>\n",
       "      <th>audienceScore</th>\n",
       "      <th>tomatoMeter</th>\n",
       "      <th>rating</th>\n",
       "      <th>ratingContents</th>\n",
       "      <th>releaseDateTheaters</th>\n",
       "      <th>releaseDateStreaming</th>\n",
       "      <th>runtimeMinutes</th>\n",
       "      <th>genre</th>\n",
       "      <th>...</th>\n",
       "      <th>reviewId</th>\n",
       "      <th>creationDate</th>\n",
       "      <th>criticName</th>\n",
       "      <th>isTopCritic</th>\n",
       "      <th>originalScore</th>\n",
       "      <th>reviewState</th>\n",
       "      <th>publicatioName</th>\n",
       "      <th>reviewText</th>\n",
       "      <th>scoreSentiment</th>\n",
       "      <th>reviewUrl</th>\n",
       "    </tr>\n",
       "  </thead>\n",
       "  <tbody>\n",
       "    <tr>\n",
       "      <th>0</th>\n",
       "      <td>love_lies</td>\n",
       "      <td>Love, Lies</td>\n",
       "      <td>43.0</td>\n",
       "      <td>NaN</td>\n",
       "      <td>NaN</td>\n",
       "      <td>NaN</td>\n",
       "      <td>NaN</td>\n",
       "      <td>NaN</td>\n",
       "      <td>120.0</td>\n",
       "      <td>Drama</td>\n",
       "      <td>...</td>\n",
       "      <td>2739073</td>\n",
       "      <td>2020-10-31</td>\n",
       "      <td>James Mudge</td>\n",
       "      <td>False</td>\n",
       "      <td>4/5</td>\n",
       "      <td>fresh</td>\n",
       "      <td>easternKicks.com</td>\n",
       "      <td>Though let down by its routine love triangle n...</td>\n",
       "      <td>POSITIVE</td>\n",
       "      <td>https://www.easternkicks.com/reviews/love-lies</td>\n",
       "    </tr>\n",
       "    <tr>\n",
       "      <th>1</th>\n",
       "      <td>love_lies</td>\n",
       "      <td>Love, Lies</td>\n",
       "      <td>43.0</td>\n",
       "      <td>NaN</td>\n",
       "      <td>NaN</td>\n",
       "      <td>NaN</td>\n",
       "      <td>NaN</td>\n",
       "      <td>NaN</td>\n",
       "      <td>120.0</td>\n",
       "      <td>Drama</td>\n",
       "      <td>...</td>\n",
       "      <td>2333658</td>\n",
       "      <td>2016-06-15</td>\n",
       "      <td>Diva Velez</td>\n",
       "      <td>False</td>\n",
       "      <td>3.5/5</td>\n",
       "      <td>fresh</td>\n",
       "      <td>TheDivaReview.com</td>\n",
       "      <td>While not perfect, Love, Lies is a worthy disc...</td>\n",
       "      <td>POSITIVE</td>\n",
       "      <td>http://thedivareview.com/Love_Lies_Movie_Revie...</td>\n",
       "    </tr>\n",
       "    <tr>\n",
       "      <th>2</th>\n",
       "      <td>adrift_2018</td>\n",
       "      <td>Adrift</td>\n",
       "      <td>65.0</td>\n",
       "      <td>69.0</td>\n",
       "      <td>PG-13</td>\n",
       "      <td>['Injury Images', 'Brief Drug Use', 'Thematic ...</td>\n",
       "      <td>2018-06-01</td>\n",
       "      <td>2018-08-21</td>\n",
       "      <td>120.0</td>\n",
       "      <td>Adventure, Drama, Romance</td>\n",
       "      <td>...</td>\n",
       "      <td>102694850</td>\n",
       "      <td>2022-05-29</td>\n",
       "      <td>Josh Parham</td>\n",
       "      <td>False</td>\n",
       "      <td>6/10</td>\n",
       "      <td>fresh</td>\n",
       "      <td>Next Best Picture</td>\n",
       "      <td>This is nowhere near the level of other great ...</td>\n",
       "      <td>POSITIVE</td>\n",
       "      <td>https://www.nextbestpicture.com/adrift.html</td>\n",
       "    </tr>\n",
       "    <tr>\n",
       "      <th>3</th>\n",
       "      <td>adrift_2018</td>\n",
       "      <td>Adrift</td>\n",
       "      <td>65.0</td>\n",
       "      <td>69.0</td>\n",
       "      <td>PG-13</td>\n",
       "      <td>['Injury Images', 'Brief Drug Use', 'Thematic ...</td>\n",
       "      <td>2018-06-01</td>\n",
       "      <td>2018-08-21</td>\n",
       "      <td>120.0</td>\n",
       "      <td>Adventure, Drama, Romance</td>\n",
       "      <td>...</td>\n",
       "      <td>2816011</td>\n",
       "      <td>2021-08-21</td>\n",
       "      <td>Kip Mooney</td>\n",
       "      <td>False</td>\n",
       "      <td>C+</td>\n",
       "      <td>rotten</td>\n",
       "      <td>College Movie Review</td>\n",
       "      <td>For almost the entire runtime, the only people...</td>\n",
       "      <td>NEGATIVE</td>\n",
       "      <td>https://collegemoviereview.com/featured/review...</td>\n",
       "    </tr>\n",
       "    <tr>\n",
       "      <th>4</th>\n",
       "      <td>adrift_2018</td>\n",
       "      <td>Adrift</td>\n",
       "      <td>65.0</td>\n",
       "      <td>69.0</td>\n",
       "      <td>PG-13</td>\n",
       "      <td>['Injury Images', 'Brief Drug Use', 'Thematic ...</td>\n",
       "      <td>2018-06-01</td>\n",
       "      <td>2018-08-21</td>\n",
       "      <td>120.0</td>\n",
       "      <td>Adventure, Drama, Romance</td>\n",
       "      <td>...</td>\n",
       "      <td>2772153</td>\n",
       "      <td>2021-02-28</td>\n",
       "      <td>Richard Crouse</td>\n",
       "      <td>False</td>\n",
       "      <td>2/5</td>\n",
       "      <td>rotten</td>\n",
       "      <td>Richard Crouse</td>\n",
       "      <td>What is meant to be a voyage of self-discovery...</td>\n",
       "      <td>NEGATIVE</td>\n",
       "      <td>http://www.richardcrouse.ca/adrift-2-stars/</td>\n",
       "    </tr>\n",
       "  </tbody>\n",
       "</table>\n",
       "<p>5 rows × 26 columns</p>\n",
       "</div>"
      ],
      "text/plain": [
       "            id       title  audienceScore  tomatoMeter rating  \\\n",
       "0    love_lies  Love, Lies           43.0          NaN    NaN   \n",
       "1    love_lies  Love, Lies           43.0          NaN    NaN   \n",
       "2  adrift_2018      Adrift           65.0         69.0  PG-13   \n",
       "3  adrift_2018      Adrift           65.0         69.0  PG-13   \n",
       "4  adrift_2018      Adrift           65.0         69.0  PG-13   \n",
       "\n",
       "                                      ratingContents releaseDateTheaters  \\\n",
       "0                                                NaN                 NaN   \n",
       "1                                                NaN                 NaN   \n",
       "2  ['Injury Images', 'Brief Drug Use', 'Thematic ...          2018-06-01   \n",
       "3  ['Injury Images', 'Brief Drug Use', 'Thematic ...          2018-06-01   \n",
       "4  ['Injury Images', 'Brief Drug Use', 'Thematic ...          2018-06-01   \n",
       "\n",
       "  releaseDateStreaming  runtimeMinutes                      genre  ...  \\\n",
       "0                  NaN           120.0                      Drama  ...   \n",
       "1                  NaN           120.0                      Drama  ...   \n",
       "2           2018-08-21           120.0  Adventure, Drama, Romance  ...   \n",
       "3           2018-08-21           120.0  Adventure, Drama, Romance  ...   \n",
       "4           2018-08-21           120.0  Adventure, Drama, Romance  ...   \n",
       "\n",
       "    reviewId creationDate      criticName isTopCritic originalScore  \\\n",
       "0    2739073   2020-10-31     James Mudge       False           4/5   \n",
       "1    2333658   2016-06-15      Diva Velez       False         3.5/5   \n",
       "2  102694850   2022-05-29     Josh Parham       False          6/10   \n",
       "3    2816011   2021-08-21      Kip Mooney       False            C+   \n",
       "4    2772153   2021-02-28  Richard Crouse       False           2/5   \n",
       "\n",
       "  reviewState        publicatioName  \\\n",
       "0       fresh      easternKicks.com   \n",
       "1       fresh     TheDivaReview.com   \n",
       "2       fresh     Next Best Picture   \n",
       "3      rotten  College Movie Review   \n",
       "4      rotten        Richard Crouse   \n",
       "\n",
       "                                          reviewText scoreSentiment  \\\n",
       "0  Though let down by its routine love triangle n...       POSITIVE   \n",
       "1  While not perfect, Love, Lies is a worthy disc...       POSITIVE   \n",
       "2  This is nowhere near the level of other great ...       POSITIVE   \n",
       "3  For almost the entire runtime, the only people...       NEGATIVE   \n",
       "4  What is meant to be a voyage of self-discovery...       NEGATIVE   \n",
       "\n",
       "                                           reviewUrl  \n",
       "0     https://www.easternkicks.com/reviews/love-lies  \n",
       "1  http://thedivareview.com/Love_Lies_Movie_Revie...  \n",
       "2        https://www.nextbestpicture.com/adrift.html  \n",
       "3  https://collegemoviereview.com/featured/review...  \n",
       "4        http://www.richardcrouse.ca/adrift-2-stars/  \n",
       "\n",
       "[5 rows x 26 columns]"
      ]
     },
     "execution_count": 83,
     "metadata": {},
     "output_type": "execute_result"
    }
   ],
   "source": [
    "df_rt = pd.merge(\n",
    "    df_rt_movies,\n",
    "    df_rt_reviews,\n",
    "    left_on='id',\n",
    "    right_on='id',\n",
    "    how='inner')\n",
    "\n",
    "df_rt.info()\n",
    "df_rt.head()"
   ]
  },
  {
   "cell_type": "markdown",
   "metadata": {},
   "source": [
    "## Save the preprocessed data"
   ]
  },
  {
   "cell_type": "code",
   "execution_count": 85,
   "metadata": {},
   "outputs": [],
   "source": [
    "data_processed_dir = data_dir + '/processed'\n",
    "\n",
    "!mkdir -p $data_processed_dir"
   ]
  },
  {
   "cell_type": "code",
   "execution_count": 86,
   "metadata": {},
   "outputs": [],
   "source": [
    "df_imdb.to_csv(data_processed_dir + '/imdb.csv', index=False)"
   ]
  },
  {
   "cell_type": "code",
   "execution_count": 87,
   "metadata": {},
   "outputs": [],
   "source": [
    "df_letterboxd.to_csv(data_processed_dir + '/letterboxd.csv', index=False)"
   ]
  },
  {
   "cell_type": "code",
   "execution_count": 88,
   "metadata": {},
   "outputs": [],
   "source": [
    "df_rt.to_csv(data_processed_dir + '/rt.csv', index=False)"
   ]
  },
  {
   "cell_type": "markdown",
   "metadata": {},
   "source": [
    "# Digest"
   ]
  },
  {
   "cell_type": "markdown",
   "metadata": {},
   "source": [
    "## Install dependencies"
   ]
  },
  {
   "cell_type": "code",
   "execution_count": 20,
   "metadata": {},
   "outputs": [
    {
     "name": "stdout",
     "output_type": "stream",
     "text": [
      "Requirement already satisfied: numpy in ./.venv/lib/python3.11/site-packages (2.2.4)\n",
      "Requirement already satisfied: pandas in ./.venv/lib/python3.11/site-packages (2.2.3)\n",
      "Requirement already satisfied: scikit-learn in ./.venv/lib/python3.11/site-packages (1.6.1)\n",
      "Requirement already satisfied: matplotlib in ./.venv/lib/python3.11/site-packages (3.10.1)\n",
      "Requirement already satisfied: seaborn in ./.venv/lib/python3.11/site-packages (0.13.2)\n",
      "Requirement already satisfied: python-dateutil>=2.8.2 in ./.venv/lib/python3.11/site-packages (from pandas) (2.9.0.post0)\n",
      "Requirement already satisfied: pytz>=2020.1 in ./.venv/lib/python3.11/site-packages (from pandas) (2025.1)\n",
      "Requirement already satisfied: tzdata>=2022.7 in ./.venv/lib/python3.11/site-packages (from pandas) (2025.1)\n",
      "Requirement already satisfied: scipy>=1.6.0 in ./.venv/lib/python3.11/site-packages (from scikit-learn) (1.15.2)\n",
      "Requirement already satisfied: joblib>=1.2.0 in ./.venv/lib/python3.11/site-packages (from scikit-learn) (1.4.2)\n",
      "Requirement already satisfied: threadpoolctl>=3.1.0 in ./.venv/lib/python3.11/site-packages (from scikit-learn) (3.6.0)\n",
      "Requirement already satisfied: contourpy>=1.0.1 in ./.venv/lib/python3.11/site-packages (from matplotlib) (1.3.1)\n",
      "Requirement already satisfied: cycler>=0.10 in ./.venv/lib/python3.11/site-packages (from matplotlib) (0.12.1)\n",
      "Requirement already satisfied: fonttools>=4.22.0 in ./.venv/lib/python3.11/site-packages (from matplotlib) (4.56.0)\n",
      "Requirement already satisfied: kiwisolver>=1.3.1 in ./.venv/lib/python3.11/site-packages (from matplotlib) (1.4.8)\n",
      "Requirement already satisfied: packaging>=20.0 in ./.venv/lib/python3.11/site-packages (from matplotlib) (24.2)\n",
      "Requirement already satisfied: pillow>=8 in ./.venv/lib/python3.11/site-packages (from matplotlib) (11.1.0)\n",
      "Requirement already satisfied: pyparsing>=2.3.1 in ./.venv/lib/python3.11/site-packages (from matplotlib) (3.2.1)\n",
      "Requirement already satisfied: six>=1.5 in ./.venv/lib/python3.11/site-packages (from python-dateutil>=2.8.2->pandas) (1.17.0)\n",
      "Note: you may need to restart the kernel to use updated packages.\n"
     ]
    }
   ],
   "source": [
    "%pip install \\\n",
    "    numpy \\\n",
    "    pandas \\\n",
    "    scikit-learn \\\n",
    "    matplotlib \\\n",
    "    seaborn"
   ]
  },
  {
   "cell_type": "markdown",
   "metadata": {},
   "source": [
    "## Load dataset"
   ]
  },
  {
   "cell_type": "code",
   "execution_count": 1,
   "metadata": {},
   "outputs": [],
   "source": [
    "data_dir = 'data'\n",
    "data_processed_dir = data_dir + '/processed'"
   ]
  },
  {
   "cell_type": "code",
   "execution_count": 2,
   "metadata": {},
   "outputs": [],
   "source": [
    "import pandas as pd"
   ]
  },
  {
   "cell_type": "markdown",
   "metadata": {},
   "source": [
    "### IMDb"
   ]
  },
  {
   "cell_type": "code",
   "execution_count": 3,
   "metadata": {},
   "outputs": [
    {
     "name": "stdout",
     "output_type": "stream",
     "text": [
      "<class 'pandas.core.frame.DataFrame'>\n",
      "RangeIndex: 4669820 entries, 0 to 4669819\n",
      "Data columns (total 4 columns):\n",
      " #   Column     Dtype \n",
      "---  ------     ----- \n",
      " 0   user_id    object\n",
      " 1   movie_id   object\n",
      " 2   rating     int64 \n",
      " 3   timestamp  object\n",
      "dtypes: int64(1), object(3)\n",
      "memory usage: 142.5+ MB\n"
     ]
    },
    {
     "data": {
      "text/html": [
       "<div>\n",
       "<style scoped>\n",
       "    .dataframe tbody tr th:only-of-type {\n",
       "        vertical-align: middle;\n",
       "    }\n",
       "\n",
       "    .dataframe tbody tr th {\n",
       "        vertical-align: top;\n",
       "    }\n",
       "\n",
       "    .dataframe thead th {\n",
       "        text-align: right;\n",
       "    }\n",
       "</style>\n",
       "<table border=\"1\" class=\"dataframe\">\n",
       "  <thead>\n",
       "    <tr style=\"text-align: right;\">\n",
       "      <th></th>\n",
       "      <th>user_id</th>\n",
       "      <th>movie_id</th>\n",
       "      <th>rating</th>\n",
       "      <th>timestamp</th>\n",
       "    </tr>\n",
       "  </thead>\n",
       "  <tbody>\n",
       "    <tr>\n",
       "      <th>0</th>\n",
       "      <td>ur4592644</td>\n",
       "      <td>tt0120884</td>\n",
       "      <td>10</td>\n",
       "      <td>2005-01-16</td>\n",
       "    </tr>\n",
       "    <tr>\n",
       "      <th>1</th>\n",
       "      <td>ur3174947</td>\n",
       "      <td>tt0118688</td>\n",
       "      <td>3</td>\n",
       "      <td>2005-01-16</td>\n",
       "    </tr>\n",
       "    <tr>\n",
       "      <th>2</th>\n",
       "      <td>ur3780035</td>\n",
       "      <td>tt0387887</td>\n",
       "      <td>8</td>\n",
       "      <td>2005-01-16</td>\n",
       "    </tr>\n",
       "    <tr>\n",
       "      <th>3</th>\n",
       "      <td>ur4592628</td>\n",
       "      <td>tt0346491</td>\n",
       "      <td>1</td>\n",
       "      <td>2005-01-16</td>\n",
       "    </tr>\n",
       "    <tr>\n",
       "      <th>4</th>\n",
       "      <td>ur3174947</td>\n",
       "      <td>tt0094721</td>\n",
       "      <td>8</td>\n",
       "      <td>2005-01-16</td>\n",
       "    </tr>\n",
       "  </tbody>\n",
       "</table>\n",
       "</div>"
      ],
      "text/plain": [
       "     user_id   movie_id  rating   timestamp\n",
       "0  ur4592644  tt0120884      10  2005-01-16\n",
       "1  ur3174947  tt0118688       3  2005-01-16\n",
       "2  ur3780035  tt0387887       8  2005-01-16\n",
       "3  ur4592628  tt0346491       1  2005-01-16\n",
       "4  ur3174947  tt0094721       8  2005-01-16"
      ]
     },
     "execution_count": 3,
     "metadata": {},
     "output_type": "execute_result"
    }
   ],
   "source": [
    "df_imdb = pd.read_csv(data_processed_dir + '/imdb.csv')\n",
    "df_imdb.info()\n",
    "df_imdb.head()"
   ]
  },
  {
   "cell_type": "markdown",
   "metadata": {},
   "source": [
    "### Letterboxd"
   ]
  },
  {
   "cell_type": "code",
   "execution_count": 4,
   "metadata": {},
   "outputs": [
    {
     "name": "stdout",
     "output_type": "stream",
     "text": [
      "<class 'pandas.core.frame.DataFrame'>\n",
      "RangeIndex: 18175268 entries, 0 to 18175267\n",
      "Data columns (total 6 columns):\n",
      " #   Column      Dtype  \n",
      "---  ------      -----  \n",
      " 0   user_name   object \n",
      " 1   film_id     object \n",
      " 2   rating      float64\n",
      " 3   film_name   object \n",
      " 4   year        float64\n",
      " 5   poster_url  object \n",
      "dtypes: float64(2), object(4)\n",
      "memory usage: 832.0+ MB\n"
     ]
    },
    {
     "data": {
      "text/html": [
       "<div>\n",
       "<style scoped>\n",
       "    .dataframe tbody tr th:only-of-type {\n",
       "        vertical-align: middle;\n",
       "    }\n",
       "\n",
       "    .dataframe tbody tr th {\n",
       "        vertical-align: top;\n",
       "    }\n",
       "\n",
       "    .dataframe thead th {\n",
       "        text-align: right;\n",
       "    }\n",
       "</style>\n",
       "<table border=\"1\" class=\"dataframe\">\n",
       "  <thead>\n",
       "    <tr style=\"text-align: right;\">\n",
       "      <th></th>\n",
       "      <th>user_name</th>\n",
       "      <th>film_id</th>\n",
       "      <th>rating</th>\n",
       "      <th>film_name</th>\n",
       "      <th>year</th>\n",
       "      <th>poster_url</th>\n",
       "    </tr>\n",
       "  </thead>\n",
       "  <tbody>\n",
       "    <tr>\n",
       "      <th>0</th>\n",
       "      <td>kurstboy</td>\n",
       "      <td>spider-man-2</td>\n",
       "      <td>4.5</td>\n",
       "      <td>Spider-Man 2</td>\n",
       "      <td>2004.0</td>\n",
       "      <td>https://a.ltrbxd.com/resized/sm/upload/pq/mi/k...</td>\n",
       "    </tr>\n",
       "    <tr>\n",
       "      <th>1</th>\n",
       "      <td>kurstboy</td>\n",
       "      <td>tetsuo-the-iron-man</td>\n",
       "      <td>4.0</td>\n",
       "      <td>Tetsuo: The Iron Man</td>\n",
       "      <td>1989.0</td>\n",
       "      <td>https://a.ltrbxd.com/resized/sm/upload/nk/ig/t...</td>\n",
       "    </tr>\n",
       "    <tr>\n",
       "      <th>2</th>\n",
       "      <td>kurstboy</td>\n",
       "      <td>bram-stokers-dracula</td>\n",
       "      <td>4.5</td>\n",
       "      <td>Bram Stoker's Dracula</td>\n",
       "      <td>1992.0</td>\n",
       "      <td>https://a.ltrbxd.com/resized/film-poster/4/8/4...</td>\n",
       "    </tr>\n",
       "    <tr>\n",
       "      <th>3</th>\n",
       "      <td>kurstboy</td>\n",
       "      <td>poison-2023</td>\n",
       "      <td>4.5</td>\n",
       "      <td>Poison</td>\n",
       "      <td>2023.0</td>\n",
       "      <td>https://a.ltrbxd.com/resized/film-poster/1/0/5...</td>\n",
       "    </tr>\n",
       "    <tr>\n",
       "      <th>4</th>\n",
       "      <td>kurstboy</td>\n",
       "      <td>the-rat-catcher-2023</td>\n",
       "      <td>3.5</td>\n",
       "      <td>The Rat Catcher</td>\n",
       "      <td>2023.0</td>\n",
       "      <td>https://a.ltrbxd.com/resized/film-poster/1/0/5...</td>\n",
       "    </tr>\n",
       "  </tbody>\n",
       "</table>\n",
       "</div>"
      ],
      "text/plain": [
       "  user_name               film_id  rating              film_name    year  \\\n",
       "0  kurstboy          spider-man-2     4.5           Spider-Man 2  2004.0   \n",
       "1  kurstboy   tetsuo-the-iron-man     4.0   Tetsuo: The Iron Man  1989.0   \n",
       "2  kurstboy  bram-stokers-dracula     4.5  Bram Stoker's Dracula  1992.0   \n",
       "3  kurstboy           poison-2023     4.5                 Poison  2023.0   \n",
       "4  kurstboy  the-rat-catcher-2023     3.5        The Rat Catcher  2023.0   \n",
       "\n",
       "                                          poster_url  \n",
       "0  https://a.ltrbxd.com/resized/sm/upload/pq/mi/k...  \n",
       "1  https://a.ltrbxd.com/resized/sm/upload/nk/ig/t...  \n",
       "2  https://a.ltrbxd.com/resized/film-poster/4/8/4...  \n",
       "3  https://a.ltrbxd.com/resized/film-poster/1/0/5...  \n",
       "4  https://a.ltrbxd.com/resized/film-poster/1/0/5...  "
      ]
     },
     "execution_count": 4,
     "metadata": {},
     "output_type": "execute_result"
    }
   ],
   "source": [
    "df_letterboxd = pd.read_csv(data_processed_dir + '/letterboxd.csv')\n",
    "df_letterboxd.info()\n",
    "df_letterboxd.head()"
   ]
  },
  {
   "cell_type": "markdown",
   "metadata": {},
   "source": [
    "### Rotten Tomatoes"
   ]
  },
  {
   "cell_type": "code",
   "execution_count": 5,
   "metadata": {},
   "outputs": [
    {
     "name": "stdout",
     "output_type": "stream",
     "text": [
      "<class 'pandas.core.frame.DataFrame'>\n",
      "RangeIndex: 1022727 entries, 0 to 1022726\n",
      "Data columns (total 26 columns):\n",
      " #   Column                Non-Null Count    Dtype  \n",
      "---  ------                --------------    -----  \n",
      " 0   id                    1022727 non-null  object \n",
      " 1   title                 1022727 non-null  object \n",
      " 2   audienceScore         987937 non-null   float64\n",
      " 3   tomatoMeter           982304 non-null   float64\n",
      " 4   rating                649371 non-null   object \n",
      " 5   ratingContents        649371 non-null   object \n",
      " 6   releaseDateTheaters   842282 non-null   object \n",
      " 7   releaseDateStreaming  958288 non-null   object \n",
      " 8   runtimeMinutes        1009177 non-null  float64\n",
      " 9   genre                 1011979 non-null  object \n",
      " 10  originalLanguage      1009112 non-null  object \n",
      " 11  director              1020412 non-null  object \n",
      " 12  writer                924140 non-null   object \n",
      " 13  boxOffice             733854 non-null   object \n",
      " 14  distributor           807729 non-null   object \n",
      " 15  soundMix              512232 non-null   object \n",
      " 16  reviewId              1022727 non-null  int64  \n",
      " 17  creationDate          1022727 non-null  object \n",
      " 18  criticName            1022727 non-null  object \n",
      " 19  isTopCritic           1022727 non-null  bool   \n",
      " 20  originalScore         1022727 non-null  object \n",
      " 21  reviewState           1022727 non-null  object \n",
      " 22  publicatioName        1022727 non-null  object \n",
      " 23  reviewText            952850 non-null   object \n",
      " 24  scoreSentiment        1022727 non-null  object \n",
      " 25  reviewUrl             857324 non-null   object \n",
      "dtypes: bool(1), float64(3), int64(1), object(21)\n",
      "memory usage: 196.0+ MB\n"
     ]
    },
    {
     "data": {
      "text/html": [
       "<div>\n",
       "<style scoped>\n",
       "    .dataframe tbody tr th:only-of-type {\n",
       "        vertical-align: middle;\n",
       "    }\n",
       "\n",
       "    .dataframe tbody tr th {\n",
       "        vertical-align: top;\n",
       "    }\n",
       "\n",
       "    .dataframe thead th {\n",
       "        text-align: right;\n",
       "    }\n",
       "</style>\n",
       "<table border=\"1\" class=\"dataframe\">\n",
       "  <thead>\n",
       "    <tr style=\"text-align: right;\">\n",
       "      <th></th>\n",
       "      <th>id</th>\n",
       "      <th>title</th>\n",
       "      <th>audienceScore</th>\n",
       "      <th>tomatoMeter</th>\n",
       "      <th>rating</th>\n",
       "      <th>ratingContents</th>\n",
       "      <th>releaseDateTheaters</th>\n",
       "      <th>releaseDateStreaming</th>\n",
       "      <th>runtimeMinutes</th>\n",
       "      <th>genre</th>\n",
       "      <th>...</th>\n",
       "      <th>reviewId</th>\n",
       "      <th>creationDate</th>\n",
       "      <th>criticName</th>\n",
       "      <th>isTopCritic</th>\n",
       "      <th>originalScore</th>\n",
       "      <th>reviewState</th>\n",
       "      <th>publicatioName</th>\n",
       "      <th>reviewText</th>\n",
       "      <th>scoreSentiment</th>\n",
       "      <th>reviewUrl</th>\n",
       "    </tr>\n",
       "  </thead>\n",
       "  <tbody>\n",
       "    <tr>\n",
       "      <th>0</th>\n",
       "      <td>love_lies</td>\n",
       "      <td>Love, Lies</td>\n",
       "      <td>43.0</td>\n",
       "      <td>NaN</td>\n",
       "      <td>NaN</td>\n",
       "      <td>NaN</td>\n",
       "      <td>NaN</td>\n",
       "      <td>NaN</td>\n",
       "      <td>120.0</td>\n",
       "      <td>Drama</td>\n",
       "      <td>...</td>\n",
       "      <td>2739073</td>\n",
       "      <td>2020-10-31</td>\n",
       "      <td>James Mudge</td>\n",
       "      <td>False</td>\n",
       "      <td>4/5</td>\n",
       "      <td>fresh</td>\n",
       "      <td>easternKicks.com</td>\n",
       "      <td>Though let down by its routine love triangle n...</td>\n",
       "      <td>POSITIVE</td>\n",
       "      <td>https://www.easternkicks.com/reviews/love-lies</td>\n",
       "    </tr>\n",
       "    <tr>\n",
       "      <th>1</th>\n",
       "      <td>love_lies</td>\n",
       "      <td>Love, Lies</td>\n",
       "      <td>43.0</td>\n",
       "      <td>NaN</td>\n",
       "      <td>NaN</td>\n",
       "      <td>NaN</td>\n",
       "      <td>NaN</td>\n",
       "      <td>NaN</td>\n",
       "      <td>120.0</td>\n",
       "      <td>Drama</td>\n",
       "      <td>...</td>\n",
       "      <td>2333658</td>\n",
       "      <td>2016-06-15</td>\n",
       "      <td>Diva Velez</td>\n",
       "      <td>False</td>\n",
       "      <td>3.5/5</td>\n",
       "      <td>fresh</td>\n",
       "      <td>TheDivaReview.com</td>\n",
       "      <td>While not perfect, Love, Lies is a worthy disc...</td>\n",
       "      <td>POSITIVE</td>\n",
       "      <td>http://thedivareview.com/Love_Lies_Movie_Revie...</td>\n",
       "    </tr>\n",
       "    <tr>\n",
       "      <th>2</th>\n",
       "      <td>adrift_2018</td>\n",
       "      <td>Adrift</td>\n",
       "      <td>65.0</td>\n",
       "      <td>69.0</td>\n",
       "      <td>PG-13</td>\n",
       "      <td>['Injury Images', 'Brief Drug Use', 'Thematic ...</td>\n",
       "      <td>2018-06-01</td>\n",
       "      <td>2018-08-21</td>\n",
       "      <td>120.0</td>\n",
       "      <td>Adventure, Drama, Romance</td>\n",
       "      <td>...</td>\n",
       "      <td>102694850</td>\n",
       "      <td>2022-05-29</td>\n",
       "      <td>Josh Parham</td>\n",
       "      <td>False</td>\n",
       "      <td>6/10</td>\n",
       "      <td>fresh</td>\n",
       "      <td>Next Best Picture</td>\n",
       "      <td>This is nowhere near the level of other great ...</td>\n",
       "      <td>POSITIVE</td>\n",
       "      <td>https://www.nextbestpicture.com/adrift.html</td>\n",
       "    </tr>\n",
       "    <tr>\n",
       "      <th>3</th>\n",
       "      <td>adrift_2018</td>\n",
       "      <td>Adrift</td>\n",
       "      <td>65.0</td>\n",
       "      <td>69.0</td>\n",
       "      <td>PG-13</td>\n",
       "      <td>['Injury Images', 'Brief Drug Use', 'Thematic ...</td>\n",
       "      <td>2018-06-01</td>\n",
       "      <td>2018-08-21</td>\n",
       "      <td>120.0</td>\n",
       "      <td>Adventure, Drama, Romance</td>\n",
       "      <td>...</td>\n",
       "      <td>2816011</td>\n",
       "      <td>2021-08-21</td>\n",
       "      <td>Kip Mooney</td>\n",
       "      <td>False</td>\n",
       "      <td>C+</td>\n",
       "      <td>rotten</td>\n",
       "      <td>College Movie Review</td>\n",
       "      <td>For almost the entire runtime, the only people...</td>\n",
       "      <td>NEGATIVE</td>\n",
       "      <td>https://collegemoviereview.com/featured/review...</td>\n",
       "    </tr>\n",
       "    <tr>\n",
       "      <th>4</th>\n",
       "      <td>adrift_2018</td>\n",
       "      <td>Adrift</td>\n",
       "      <td>65.0</td>\n",
       "      <td>69.0</td>\n",
       "      <td>PG-13</td>\n",
       "      <td>['Injury Images', 'Brief Drug Use', 'Thematic ...</td>\n",
       "      <td>2018-06-01</td>\n",
       "      <td>2018-08-21</td>\n",
       "      <td>120.0</td>\n",
       "      <td>Adventure, Drama, Romance</td>\n",
       "      <td>...</td>\n",
       "      <td>2772153</td>\n",
       "      <td>2021-02-28</td>\n",
       "      <td>Richard Crouse</td>\n",
       "      <td>False</td>\n",
       "      <td>2/5</td>\n",
       "      <td>rotten</td>\n",
       "      <td>Richard Crouse</td>\n",
       "      <td>What is meant to be a voyage of self-discovery...</td>\n",
       "      <td>NEGATIVE</td>\n",
       "      <td>http://www.richardcrouse.ca/adrift-2-stars/</td>\n",
       "    </tr>\n",
       "  </tbody>\n",
       "</table>\n",
       "<p>5 rows × 26 columns</p>\n",
       "</div>"
      ],
      "text/plain": [
       "            id       title  audienceScore  tomatoMeter rating  \\\n",
       "0    love_lies  Love, Lies           43.0          NaN    NaN   \n",
       "1    love_lies  Love, Lies           43.0          NaN    NaN   \n",
       "2  adrift_2018      Adrift           65.0         69.0  PG-13   \n",
       "3  adrift_2018      Adrift           65.0         69.0  PG-13   \n",
       "4  adrift_2018      Adrift           65.0         69.0  PG-13   \n",
       "\n",
       "                                      ratingContents releaseDateTheaters  \\\n",
       "0                                                NaN                 NaN   \n",
       "1                                                NaN                 NaN   \n",
       "2  ['Injury Images', 'Brief Drug Use', 'Thematic ...          2018-06-01   \n",
       "3  ['Injury Images', 'Brief Drug Use', 'Thematic ...          2018-06-01   \n",
       "4  ['Injury Images', 'Brief Drug Use', 'Thematic ...          2018-06-01   \n",
       "\n",
       "  releaseDateStreaming  runtimeMinutes                      genre  ...  \\\n",
       "0                  NaN           120.0                      Drama  ...   \n",
       "1                  NaN           120.0                      Drama  ...   \n",
       "2           2018-08-21           120.0  Adventure, Drama, Romance  ...   \n",
       "3           2018-08-21           120.0  Adventure, Drama, Romance  ...   \n",
       "4           2018-08-21           120.0  Adventure, Drama, Romance  ...   \n",
       "\n",
       "    reviewId creationDate      criticName isTopCritic originalScore  \\\n",
       "0    2739073   2020-10-31     James Mudge       False           4/5   \n",
       "1    2333658   2016-06-15      Diva Velez       False         3.5/5   \n",
       "2  102694850   2022-05-29     Josh Parham       False          6/10   \n",
       "3    2816011   2021-08-21      Kip Mooney       False            C+   \n",
       "4    2772153   2021-02-28  Richard Crouse       False           2/5   \n",
       "\n",
       "  reviewState        publicatioName  \\\n",
       "0       fresh      easternKicks.com   \n",
       "1       fresh     TheDivaReview.com   \n",
       "2       fresh     Next Best Picture   \n",
       "3      rotten  College Movie Review   \n",
       "4      rotten        Richard Crouse   \n",
       "\n",
       "                                          reviewText scoreSentiment  \\\n",
       "0  Though let down by its routine love triangle n...       POSITIVE   \n",
       "1  While not perfect, Love, Lies is a worthy disc...       POSITIVE   \n",
       "2  This is nowhere near the level of other great ...       POSITIVE   \n",
       "3  For almost the entire runtime, the only people...       NEGATIVE   \n",
       "4  What is meant to be a voyage of self-discovery...       NEGATIVE   \n",
       "\n",
       "                                           reviewUrl  \n",
       "0     https://www.easternkicks.com/reviews/love-lies  \n",
       "1  http://thedivareview.com/Love_Lies_Movie_Revie...  \n",
       "2        https://www.nextbestpicture.com/adrift.html  \n",
       "3  https://collegemoviereview.com/featured/review...  \n",
       "4        http://www.richardcrouse.ca/adrift-2-stars/  \n",
       "\n",
       "[5 rows x 26 columns]"
      ]
     },
     "execution_count": 5,
     "metadata": {},
     "output_type": "execute_result"
    }
   ],
   "source": [
    "df_rt = pd.read_csv(data_processed_dir + '/rt.csv')\n",
    "df_rt.info()\n",
    "df_rt.head()"
   ]
  },
  {
   "cell_type": "markdown",
   "metadata": {},
   "source": [
    "## Distribution"
   ]
  },
  {
   "cell_type": "code",
   "execution_count": 24,
   "metadata": {},
   "outputs": [],
   "source": [
    "import seaborn as sns\n",
    "import matplotlib.pyplot as plt\n",
    "import numpy as np"
   ]
  },
  {
   "cell_type": "code",
   "execution_count": 29,
   "metadata": {},
   "outputs": [
    {
     "data": {
      "text/plain": [
       "Text(0, 0.5, 'Count')"
      ]
     },
     "execution_count": 29,
     "metadata": {},
     "output_type": "execute_result"
    },
    {
     "data": {
      "image/png": "[encoded data removed]",
      "text/plain": [
       "<Figure size 640x480 with 1 Axes>"
      ]
     },
     "metadata": {},
     "output_type": "display_data"
    }
   ],
   "source": [
    "sns.histplot(data=df_imdb, x='rating', bins=10)\n",
    "plt.xticks(np.arange(1, 11, 1))\n",
    "plt.xlabel('Rating')\n",
    "plt.ylabel('Count')"
   ]
  },
  {
   "cell_type": "code",
   "execution_count": 30,
   "metadata": {},
   "outputs": [
    {
     "data": {
      "text/plain": [
       "Text(0, 0.5, 'Count')"
      ]
     },
     "execution_count": 30,
     "metadata": {},
     "output_type": "execute_result"
    },
    {
     "data": {
      "image/png": "[encoded data removed]",
      "text/plain": [
       "<Figure size 640x480 with 1 Axes>"
      ]
     },
     "metadata": {},
     "output_type": "display_data"
    }
   ],
   "source": [
    "sns.histplot(data=df_letterboxd, x='rating', bins=10)\n",
    "plt.xticks(np.arange(0.5, 5.5, 0.5))\n",
    "plt.xlabel('Rating')\n",
    "plt.ylabel('Count')"
   ]
  },
  {
   "cell_type": "code",
   "execution_count": 18,
   "metadata": {},
   "outputs": [
    {
     "data": {
      "text/plain": [
       "<Axes: xlabel='originalScore', ylabel='Count'>"
      ]
     },
     "execution_count": 18,
     "metadata": {},
     "output_type": "execute_result"
    },
    {
     "data": {
      "image/png": "[encoded data removed]",
      "text/plain": [
       "<Figure size 640x480 with 1 Axes>"
      ]
     },
     "metadata": {},
     "output_type": "display_data"
    }
   ],
   "source": [
    "sns.histplot(df_rt['originalScore'])"
   ]
  },
  {
   "cell_type": "markdown",
   "metadata": {},
   "source": [
    "# TODO: apagar no final (essa ferramenta hiberna e loga no estado do jpynb)"
   ]
  },
  {
   "cell_type": "code",
   "execution_count": 1,
   "metadata": {},
   "outputs": [
    {
     "name": "stdout",
     "output_type": "stream",
     "text": [
      "Collecting dill\n",
      "  Using cached dill-0.3.9-py3-none-any.whl (119 kB)\n",
      "Installing collected packages: dill\n",
      "Successfully installed dill-0.3.9\n",
      "Note: you may need to restart the kernel to use updated packages.\n"
     ]
    }
   ],
   "source": [
    "%pip install dill"
   ]
  },
  {
   "cell_type": "code",
   "execution_count": 4,
   "metadata": {},
   "outputs": [],
   "source": [
    "import dill\n",
    "dill.dump_session('notebook_env.db')"
   ]
  },
  {
   "cell_type": "code",
   "execution_count": 3,
   "metadata": {},
   "outputs": [],
   "source": [
    "import dill\n",
    "dill.load_session('notebook_env.db')"
   ]
  }
 ],
 "metadata": {
  "kernelspec": {
   "display_name": ".venv",
   "language": "python",
   "name": "python3"
  },
  "language_info": {
   "codemirror_mode": {
    "name": "ipython",
    "version": 3
   },
   "file_extension": ".py",
   "mimetype": "text/x-python",
   "name": "python",
   "nbconvert_exporter": "python",
   "pygments_lexer": "ipython3",
   "version": "3.11.2"
  }
 },
 "nbformat": 4,
 "nbformat_minor": 2
}
